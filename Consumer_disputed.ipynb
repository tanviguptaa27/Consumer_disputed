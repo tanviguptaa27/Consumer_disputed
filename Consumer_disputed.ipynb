{
 "cells": [
  {
   "cell_type": "code",
   "execution_count": 1,
   "id": "6491de24",
   "metadata": {},
   "outputs": [],
   "source": [
    "import numpy as np\n",
    "import pandas as pd"
   ]
  },
  {
   "cell_type": "code",
   "execution_count": 2,
   "id": "9ed706a4",
   "metadata": {},
   "outputs": [],
   "source": [
    "train1=pd.read_csv('Consumer_Complaints_train.csv')\n",
    "test1=pd.read_csv('Consumer_Complaints_test_share.csv')"
   ]
  },
  {
   "cell_type": "code",
   "execution_count": 3,
   "id": "44a0f3e3",
   "metadata": {},
   "outputs": [
    {
     "data": {
      "text/html": [
       "<div>\n",
       "<style scoped>\n",
       "    .dataframe tbody tr th:only-of-type {\n",
       "        vertical-align: middle;\n",
       "    }\n",
       "\n",
       "    .dataframe tbody tr th {\n",
       "        vertical-align: top;\n",
       "    }\n",
       "\n",
       "    .dataframe thead th {\n",
       "        text-align: right;\n",
       "    }\n",
       "</style>\n",
       "<table border=\"1\" class=\"dataframe\">\n",
       "  <thead>\n",
       "    <tr style=\"text-align: right;\">\n",
       "      <th></th>\n",
       "      <th>Date received</th>\n",
       "      <th>Product</th>\n",
       "      <th>Sub-product</th>\n",
       "      <th>Issue</th>\n",
       "      <th>Sub-issue</th>\n",
       "      <th>Consumer complaint narrative</th>\n",
       "      <th>Company public response</th>\n",
       "      <th>Company</th>\n",
       "      <th>State</th>\n",
       "      <th>ZIP code</th>\n",
       "      <th>Tags</th>\n",
       "      <th>Consumer consent provided?</th>\n",
       "      <th>Submitted via</th>\n",
       "      <th>Date sent to company</th>\n",
       "      <th>Company response to consumer</th>\n",
       "      <th>Timely response?</th>\n",
       "      <th>Consumer disputed?</th>\n",
       "      <th>Complaint ID</th>\n",
       "    </tr>\n",
       "  </thead>\n",
       "  <tbody>\n",
       "    <tr>\n",
       "      <th>0</th>\n",
       "      <td>2014-05-15</td>\n",
       "      <td>Credit card</td>\n",
       "      <td>NaN</td>\n",
       "      <td>Billing statement</td>\n",
       "      <td>NaN</td>\n",
       "      <td>NaN</td>\n",
       "      <td>NaN</td>\n",
       "      <td>Wells Fargo &amp; Company</td>\n",
       "      <td>MI</td>\n",
       "      <td>48342</td>\n",
       "      <td>Older American</td>\n",
       "      <td>NaN</td>\n",
       "      <td>Web</td>\n",
       "      <td>2014-05-16</td>\n",
       "      <td>Closed with explanation</td>\n",
       "      <td>Yes</td>\n",
       "      <td>No</td>\n",
       "      <td>856103</td>\n",
       "    </tr>\n",
       "    <tr>\n",
       "      <th>1</th>\n",
       "      <td>2014-09-18</td>\n",
       "      <td>Bank account or service</td>\n",
       "      <td>(CD) Certificate of deposit</td>\n",
       "      <td>Making/receiving payments, sending money</td>\n",
       "      <td>NaN</td>\n",
       "      <td>NaN</td>\n",
       "      <td>NaN</td>\n",
       "      <td>Santander Bank US</td>\n",
       "      <td>PA</td>\n",
       "      <td>18042</td>\n",
       "      <td>NaN</td>\n",
       "      <td>NaN</td>\n",
       "      <td>Referral</td>\n",
       "      <td>2014-09-24</td>\n",
       "      <td>Closed</td>\n",
       "      <td>Yes</td>\n",
       "      <td>No</td>\n",
       "      <td>1034666</td>\n",
       "    </tr>\n",
       "    <tr>\n",
       "      <th>2</th>\n",
       "      <td>2014-03-13</td>\n",
       "      <td>Credit reporting</td>\n",
       "      <td>NaN</td>\n",
       "      <td>Incorrect information on credit report</td>\n",
       "      <td>Account status</td>\n",
       "      <td>NaN</td>\n",
       "      <td>NaN</td>\n",
       "      <td>Equifax</td>\n",
       "      <td>CA</td>\n",
       "      <td>92427</td>\n",
       "      <td>NaN</td>\n",
       "      <td>NaN</td>\n",
       "      <td>Referral</td>\n",
       "      <td>2014-04-03</td>\n",
       "      <td>Closed with non-monetary relief</td>\n",
       "      <td>Yes</td>\n",
       "      <td>No</td>\n",
       "      <td>756363</td>\n",
       "    </tr>\n",
       "    <tr>\n",
       "      <th>3</th>\n",
       "      <td>2015-07-17</td>\n",
       "      <td>Credit card</td>\n",
       "      <td>NaN</td>\n",
       "      <td>Billing statement</td>\n",
       "      <td>NaN</td>\n",
       "      <td>My credit card statement from US Bank, XXXX. X...</td>\n",
       "      <td>Company chooses not to provide a public response</td>\n",
       "      <td>U.S. Bancorp</td>\n",
       "      <td>GA</td>\n",
       "      <td>305XX</td>\n",
       "      <td>Older American</td>\n",
       "      <td>Consent provided</td>\n",
       "      <td>Web</td>\n",
       "      <td>2015-07-17</td>\n",
       "      <td>Closed with monetary relief</td>\n",
       "      <td>Yes</td>\n",
       "      <td>No</td>\n",
       "      <td>1474177</td>\n",
       "    </tr>\n",
       "    <tr>\n",
       "      <th>4</th>\n",
       "      <td>2014-11-20</td>\n",
       "      <td>Credit card</td>\n",
       "      <td>NaN</td>\n",
       "      <td>Transaction issue</td>\n",
       "      <td>NaN</td>\n",
       "      <td>NaN</td>\n",
       "      <td>NaN</td>\n",
       "      <td>Bank of America</td>\n",
       "      <td>MA</td>\n",
       "      <td>02127</td>\n",
       "      <td>NaN</td>\n",
       "      <td>NaN</td>\n",
       "      <td>Web</td>\n",
       "      <td>2014-11-28</td>\n",
       "      <td>Closed with explanation</td>\n",
       "      <td>Yes</td>\n",
       "      <td>No</td>\n",
       "      <td>1132572</td>\n",
       "    </tr>\n",
       "    <tr>\n",
       "      <th>5</th>\n",
       "      <td>2014-06-26</td>\n",
       "      <td>Mortgage</td>\n",
       "      <td>Other mortgage</td>\n",
       "      <td>Loan modification,collection,foreclosure</td>\n",
       "      <td>NaN</td>\n",
       "      <td>NaN</td>\n",
       "      <td>NaN</td>\n",
       "      <td>Bank of America</td>\n",
       "      <td>WI</td>\n",
       "      <td>54313</td>\n",
       "      <td>NaN</td>\n",
       "      <td>NaN</td>\n",
       "      <td>Referral</td>\n",
       "      <td>2014-07-01</td>\n",
       "      <td>Closed with explanation</td>\n",
       "      <td>Yes</td>\n",
       "      <td>No</td>\n",
       "      <td>913769</td>\n",
       "    </tr>\n",
       "    <tr>\n",
       "      <th>6</th>\n",
       "      <td>2012-09-28</td>\n",
       "      <td>Mortgage</td>\n",
       "      <td>Other mortgage</td>\n",
       "      <td>Loan servicing, payments, escrow account</td>\n",
       "      <td>NaN</td>\n",
       "      <td>NaN</td>\n",
       "      <td>NaN</td>\n",
       "      <td>Ocwen</td>\n",
       "      <td>FL</td>\n",
       "      <td>33168</td>\n",
       "      <td>NaN</td>\n",
       "      <td>NaN</td>\n",
       "      <td>Referral</td>\n",
       "      <td>2012-10-01</td>\n",
       "      <td>Closed with explanation</td>\n",
       "      <td>Yes</td>\n",
       "      <td>No</td>\n",
       "      <td>163903</td>\n",
       "    </tr>\n",
       "    <tr>\n",
       "      <th>7</th>\n",
       "      <td>2015-05-06</td>\n",
       "      <td>Mortgage</td>\n",
       "      <td>FHA mortgage</td>\n",
       "      <td>Loan modification,collection,foreclosure</td>\n",
       "      <td>NaN</td>\n",
       "      <td>I have a mortgage with Quicken Loans. From XXX...</td>\n",
       "      <td>NaN</td>\n",
       "      <td>Quicken Loans</td>\n",
       "      <td>GA</td>\n",
       "      <td>300XX</td>\n",
       "      <td>NaN</td>\n",
       "      <td>Consent provided</td>\n",
       "      <td>Web</td>\n",
       "      <td>2015-05-06</td>\n",
       "      <td>Closed with explanation</td>\n",
       "      <td>Yes</td>\n",
       "      <td>Yes</td>\n",
       "      <td>1362945</td>\n",
       "    </tr>\n",
       "    <tr>\n",
       "      <th>8</th>\n",
       "      <td>2013-02-25</td>\n",
       "      <td>Credit card</td>\n",
       "      <td>NaN</td>\n",
       "      <td>Credit card protection / Debt protection</td>\n",
       "      <td>NaN</td>\n",
       "      <td>NaN</td>\n",
       "      <td>NaN</td>\n",
       "      <td>Discover</td>\n",
       "      <td>OH</td>\n",
       "      <td>45640</td>\n",
       "      <td>NaN</td>\n",
       "      <td>NaN</td>\n",
       "      <td>Web</td>\n",
       "      <td>2013-02-26</td>\n",
       "      <td>Closed with monetary relief</td>\n",
       "      <td>Yes</td>\n",
       "      <td>No</td>\n",
       "      <td>331502</td>\n",
       "    </tr>\n",
       "    <tr>\n",
       "      <th>9</th>\n",
       "      <td>2016-03-30</td>\n",
       "      <td>Bank account or service</td>\n",
       "      <td>Checking account</td>\n",
       "      <td>Deposits and withdrawals</td>\n",
       "      <td>NaN</td>\n",
       "      <td>I put my settlement check in to bank of americ...</td>\n",
       "      <td>Company has responded to the consumer and the ...</td>\n",
       "      <td>Bank of America</td>\n",
       "      <td>TX</td>\n",
       "      <td>787XX</td>\n",
       "      <td>NaN</td>\n",
       "      <td>Consent provided</td>\n",
       "      <td>Web</td>\n",
       "      <td>2016-04-01</td>\n",
       "      <td>Closed with explanation</td>\n",
       "      <td>Yes</td>\n",
       "      <td>No</td>\n",
       "      <td>1855737</td>\n",
       "    </tr>\n",
       "  </tbody>\n",
       "</table>\n",
       "</div>"
      ],
      "text/plain": [
       "  Date received                  Product                  Sub-product  \\\n",
       "0    2014-05-15              Credit card                          NaN   \n",
       "1    2014-09-18  Bank account or service  (CD) Certificate of deposit   \n",
       "2    2014-03-13         Credit reporting                          NaN   \n",
       "3    2015-07-17              Credit card                          NaN   \n",
       "4    2014-11-20              Credit card                          NaN   \n",
       "5    2014-06-26                 Mortgage               Other mortgage   \n",
       "6    2012-09-28                 Mortgage               Other mortgage   \n",
       "7    2015-05-06                 Mortgage                 FHA mortgage   \n",
       "8    2013-02-25              Credit card                          NaN   \n",
       "9    2016-03-30  Bank account or service             Checking account   \n",
       "\n",
       "                                      Issue       Sub-issue  \\\n",
       "0                         Billing statement             NaN   \n",
       "1  Making/receiving payments, sending money             NaN   \n",
       "2    Incorrect information on credit report  Account status   \n",
       "3                         Billing statement             NaN   \n",
       "4                         Transaction issue             NaN   \n",
       "5  Loan modification,collection,foreclosure             NaN   \n",
       "6  Loan servicing, payments, escrow account             NaN   \n",
       "7  Loan modification,collection,foreclosure             NaN   \n",
       "8  Credit card protection / Debt protection             NaN   \n",
       "9                  Deposits and withdrawals             NaN   \n",
       "\n",
       "                        Consumer complaint narrative  \\\n",
       "0                                                NaN   \n",
       "1                                                NaN   \n",
       "2                                                NaN   \n",
       "3  My credit card statement from US Bank, XXXX. X...   \n",
       "4                                                NaN   \n",
       "5                                                NaN   \n",
       "6                                                NaN   \n",
       "7  I have a mortgage with Quicken Loans. From XXX...   \n",
       "8                                                NaN   \n",
       "9  I put my settlement check in to bank of americ...   \n",
       "\n",
       "                             Company public response                Company  \\\n",
       "0                                                NaN  Wells Fargo & Company   \n",
       "1                                                NaN      Santander Bank US   \n",
       "2                                                NaN                Equifax   \n",
       "3   Company chooses not to provide a public response           U.S. Bancorp   \n",
       "4                                                NaN        Bank of America   \n",
       "5                                                NaN        Bank of America   \n",
       "6                                                NaN                  Ocwen   \n",
       "7                                                NaN          Quicken Loans   \n",
       "8                                                NaN               Discover   \n",
       "9  Company has responded to the consumer and the ...        Bank of America   \n",
       "\n",
       "  State ZIP code            Tags Consumer consent provided? Submitted via  \\\n",
       "0    MI    48342  Older American                        NaN           Web   \n",
       "1    PA    18042             NaN                        NaN      Referral   \n",
       "2    CA    92427             NaN                        NaN      Referral   \n",
       "3    GA    305XX  Older American           Consent provided           Web   \n",
       "4    MA    02127             NaN                        NaN           Web   \n",
       "5    WI    54313             NaN                        NaN      Referral   \n",
       "6    FL    33168             NaN                        NaN      Referral   \n",
       "7    GA    300XX             NaN           Consent provided           Web   \n",
       "8    OH    45640             NaN                        NaN           Web   \n",
       "9    TX    787XX             NaN           Consent provided           Web   \n",
       "\n",
       "  Date sent to company     Company response to consumer Timely response?  \\\n",
       "0           2014-05-16          Closed with explanation              Yes   \n",
       "1           2014-09-24                           Closed              Yes   \n",
       "2           2014-04-03  Closed with non-monetary relief              Yes   \n",
       "3           2015-07-17      Closed with monetary relief              Yes   \n",
       "4           2014-11-28          Closed with explanation              Yes   \n",
       "5           2014-07-01          Closed with explanation              Yes   \n",
       "6           2012-10-01          Closed with explanation              Yes   \n",
       "7           2015-05-06          Closed with explanation              Yes   \n",
       "8           2013-02-26      Closed with monetary relief              Yes   \n",
       "9           2016-04-01          Closed with explanation              Yes   \n",
       "\n",
       "  Consumer disputed?  Complaint ID  \n",
       "0                 No        856103  \n",
       "1                 No       1034666  \n",
       "2                 No        756363  \n",
       "3                 No       1474177  \n",
       "4                 No       1132572  \n",
       "5                 No        913769  \n",
       "6                 No        163903  \n",
       "7                Yes       1362945  \n",
       "8                 No        331502  \n",
       "9                 No       1855737  "
      ]
     },
     "execution_count": 3,
     "metadata": {},
     "output_type": "execute_result"
    }
   ],
   "source": [
    "train1.head(10)"
   ]
  },
  {
   "cell_type": "code",
   "execution_count": 4,
   "id": "25be8c4e",
   "metadata": {},
   "outputs": [
    {
     "data": {
      "text/html": [
       "<div>\n",
       "<style scoped>\n",
       "    .dataframe tbody tr th:only-of-type {\n",
       "        vertical-align: middle;\n",
       "    }\n",
       "\n",
       "    .dataframe tbody tr th {\n",
       "        vertical-align: top;\n",
       "    }\n",
       "\n",
       "    .dataframe thead th {\n",
       "        text-align: right;\n",
       "    }\n",
       "</style>\n",
       "<table border=\"1\" class=\"dataframe\">\n",
       "  <thead>\n",
       "    <tr style=\"text-align: right;\">\n",
       "      <th></th>\n",
       "      <th>Date received</th>\n",
       "      <th>Product</th>\n",
       "      <th>Sub-product</th>\n",
       "      <th>Issue</th>\n",
       "      <th>Sub-issue</th>\n",
       "      <th>Consumer complaint narrative</th>\n",
       "      <th>Company public response</th>\n",
       "      <th>Company</th>\n",
       "      <th>State</th>\n",
       "      <th>ZIP code</th>\n",
       "      <th>Tags</th>\n",
       "      <th>Consumer consent provided?</th>\n",
       "      <th>Submitted via</th>\n",
       "      <th>Date sent to company</th>\n",
       "      <th>Company response to consumer</th>\n",
       "      <th>Timely response?</th>\n",
       "      <th>Complaint ID</th>\n",
       "    </tr>\n",
       "  </thead>\n",
       "  <tbody>\n",
       "    <tr>\n",
       "      <th>0</th>\n",
       "      <td>2014-01-18</td>\n",
       "      <td>Bank account or service</td>\n",
       "      <td>Cashing a check without an account</td>\n",
       "      <td>Deposits and withdrawals</td>\n",
       "      <td>NaN</td>\n",
       "      <td>NaN</td>\n",
       "      <td>NaN</td>\n",
       "      <td>Bank of America</td>\n",
       "      <td>CA</td>\n",
       "      <td>95691</td>\n",
       "      <td>NaN</td>\n",
       "      <td>NaN</td>\n",
       "      <td>Web</td>\n",
       "      <td>2014-01-17</td>\n",
       "      <td>Closed with explanation</td>\n",
       "      <td>Yes</td>\n",
       "      <td>675956</td>\n",
       "    </tr>\n",
       "    <tr>\n",
       "      <th>1</th>\n",
       "      <td>2016-03-31</td>\n",
       "      <td>Debt collection</td>\n",
       "      <td>Credit card</td>\n",
       "      <td>Cont'd attempts collect debt not owed</td>\n",
       "      <td>Debt was paid</td>\n",
       "      <td>NaN</td>\n",
       "      <td>NaN</td>\n",
       "      <td>National Credit Adjusters, LLC</td>\n",
       "      <td>FL</td>\n",
       "      <td>32086</td>\n",
       "      <td>NaN</td>\n",
       "      <td>Consent not provided</td>\n",
       "      <td>Web</td>\n",
       "      <td>2016-03-31</td>\n",
       "      <td>Closed with explanation</td>\n",
       "      <td>Yes</td>\n",
       "      <td>1858795</td>\n",
       "    </tr>\n",
       "    <tr>\n",
       "      <th>2</th>\n",
       "      <td>2012-03-08</td>\n",
       "      <td>Mortgage</td>\n",
       "      <td>Conventional adjustable mortgage (ARM)</td>\n",
       "      <td>Loan servicing, payments, escrow account</td>\n",
       "      <td>NaN</td>\n",
       "      <td>NaN</td>\n",
       "      <td>NaN</td>\n",
       "      <td>Wells Fargo &amp; Company</td>\n",
       "      <td>CA</td>\n",
       "      <td>94618</td>\n",
       "      <td>NaN</td>\n",
       "      <td>NaN</td>\n",
       "      <td>Web</td>\n",
       "      <td>2012-03-09</td>\n",
       "      <td>Closed without relief</td>\n",
       "      <td>Yes</td>\n",
       "      <td>32637</td>\n",
       "    </tr>\n",
       "    <tr>\n",
       "      <th>3</th>\n",
       "      <td>2016-01-07</td>\n",
       "      <td>Credit reporting</td>\n",
       "      <td>NaN</td>\n",
       "      <td>Unable to get credit report/credit score</td>\n",
       "      <td>Problem getting report or credit score</td>\n",
       "      <td>NaN</td>\n",
       "      <td>Company chooses not to provide a public response</td>\n",
       "      <td>TransUnion Intermediate Holdings, Inc.</td>\n",
       "      <td>FL</td>\n",
       "      <td>33584</td>\n",
       "      <td>Older American</td>\n",
       "      <td>NaN</td>\n",
       "      <td>Postal mail</td>\n",
       "      <td>2016-01-12</td>\n",
       "      <td>Closed with non-monetary relief</td>\n",
       "      <td>Yes</td>\n",
       "      <td>1731374</td>\n",
       "    </tr>\n",
       "    <tr>\n",
       "      <th>4</th>\n",
       "      <td>2013-08-23</td>\n",
       "      <td>Mortgage</td>\n",
       "      <td>FHA mortgage</td>\n",
       "      <td>Loan modification,collection,foreclosure</td>\n",
       "      <td>NaN</td>\n",
       "      <td>NaN</td>\n",
       "      <td>NaN</td>\n",
       "      <td>Bank of America</td>\n",
       "      <td>FL</td>\n",
       "      <td>33543</td>\n",
       "      <td>NaN</td>\n",
       "      <td>NaN</td>\n",
       "      <td>Web</td>\n",
       "      <td>2013-08-23</td>\n",
       "      <td>Closed with explanation</td>\n",
       "      <td>Yes</td>\n",
       "      <td>501487</td>\n",
       "    </tr>\n",
       "    <tr>\n",
       "      <th>5</th>\n",
       "      <td>2013-12-12</td>\n",
       "      <td>Credit reporting</td>\n",
       "      <td>NaN</td>\n",
       "      <td>Incorrect information on credit report</td>\n",
       "      <td>Account status</td>\n",
       "      <td>NaN</td>\n",
       "      <td>NaN</td>\n",
       "      <td>Equifax</td>\n",
       "      <td>DC</td>\n",
       "      <td>20018</td>\n",
       "      <td>NaN</td>\n",
       "      <td>NaN</td>\n",
       "      <td>Web</td>\n",
       "      <td>2013-12-12</td>\n",
       "      <td>Closed with explanation</td>\n",
       "      <td>Yes</td>\n",
       "      <td>631565</td>\n",
       "    </tr>\n",
       "    <tr>\n",
       "      <th>6</th>\n",
       "      <td>2015-03-16</td>\n",
       "      <td>Debt collection</td>\n",
       "      <td>Other (i.e. phone, health club, etc.)</td>\n",
       "      <td>Cont'd attempts collect debt not owed</td>\n",
       "      <td>Debt resulted from identity theft</td>\n",
       "      <td>NaN</td>\n",
       "      <td>NaN</td>\n",
       "      <td>Real Time Resolutions</td>\n",
       "      <td>TX</td>\n",
       "      <td>75249</td>\n",
       "      <td>NaN</td>\n",
       "      <td>NaN</td>\n",
       "      <td>Web</td>\n",
       "      <td>2015-03-16</td>\n",
       "      <td>Closed with explanation</td>\n",
       "      <td>Yes</td>\n",
       "      <td>1283963</td>\n",
       "    </tr>\n",
       "    <tr>\n",
       "      <th>7</th>\n",
       "      <td>2016-04-29</td>\n",
       "      <td>Credit reporting</td>\n",
       "      <td>NaN</td>\n",
       "      <td>Credit monitoring or identity protection</td>\n",
       "      <td>Problem with fraud alerts</td>\n",
       "      <td>NaN</td>\n",
       "      <td>Company has responded to the consumer and the ...</td>\n",
       "      <td>Experian</td>\n",
       "      <td>CA</td>\n",
       "      <td>91791</td>\n",
       "      <td>NaN</td>\n",
       "      <td>NaN</td>\n",
       "      <td>Referral</td>\n",
       "      <td>2016-04-29</td>\n",
       "      <td>Closed with non-monetary relief</td>\n",
       "      <td>Yes</td>\n",
       "      <td>1902970</td>\n",
       "    </tr>\n",
       "    <tr>\n",
       "      <th>8</th>\n",
       "      <td>2014-12-17</td>\n",
       "      <td>Debt collection</td>\n",
       "      <td>Non-federal student loan</td>\n",
       "      <td>Communication tactics</td>\n",
       "      <td>Frequent or repeated calls</td>\n",
       "      <td>NaN</td>\n",
       "      <td>NaN</td>\n",
       "      <td>MRS BPO, L.L.C.</td>\n",
       "      <td>WA</td>\n",
       "      <td>99403</td>\n",
       "      <td>NaN</td>\n",
       "      <td>NaN</td>\n",
       "      <td>Referral</td>\n",
       "      <td>2014-12-18</td>\n",
       "      <td>Closed with explanation</td>\n",
       "      <td>Yes</td>\n",
       "      <td>1160691</td>\n",
       "    </tr>\n",
       "    <tr>\n",
       "      <th>9</th>\n",
       "      <td>2013-03-19</td>\n",
       "      <td>Credit card</td>\n",
       "      <td>NaN</td>\n",
       "      <td>Customer service / Customer relations</td>\n",
       "      <td>NaN</td>\n",
       "      <td>NaN</td>\n",
       "      <td>NaN</td>\n",
       "      <td>Citibank</td>\n",
       "      <td>IL</td>\n",
       "      <td>60640</td>\n",
       "      <td>NaN</td>\n",
       "      <td>NaN</td>\n",
       "      <td>Web</td>\n",
       "      <td>2013-03-20</td>\n",
       "      <td>Closed with monetary relief</td>\n",
       "      <td>Yes</td>\n",
       "      <td>359929</td>\n",
       "    </tr>\n",
       "  </tbody>\n",
       "</table>\n",
       "</div>"
      ],
      "text/plain": [
       "  Date received                  Product  \\\n",
       "0    2014-01-18  Bank account or service   \n",
       "1    2016-03-31          Debt collection   \n",
       "2    2012-03-08                 Mortgage   \n",
       "3    2016-01-07         Credit reporting   \n",
       "4    2013-08-23                 Mortgage   \n",
       "5    2013-12-12         Credit reporting   \n",
       "6    2015-03-16          Debt collection   \n",
       "7    2016-04-29         Credit reporting   \n",
       "8    2014-12-17          Debt collection   \n",
       "9    2013-03-19              Credit card   \n",
       "\n",
       "                              Sub-product  \\\n",
       "0      Cashing a check without an account   \n",
       "1                             Credit card   \n",
       "2  Conventional adjustable mortgage (ARM)   \n",
       "3                                     NaN   \n",
       "4                            FHA mortgage   \n",
       "5                                     NaN   \n",
       "6   Other (i.e. phone, health club, etc.)   \n",
       "7                                     NaN   \n",
       "8                Non-federal student loan   \n",
       "9                                     NaN   \n",
       "\n",
       "                                      Issue  \\\n",
       "0                  Deposits and withdrawals   \n",
       "1     Cont'd attempts collect debt not owed   \n",
       "2  Loan servicing, payments, escrow account   \n",
       "3  Unable to get credit report/credit score   \n",
       "4  Loan modification,collection,foreclosure   \n",
       "5    Incorrect information on credit report   \n",
       "6     Cont'd attempts collect debt not owed   \n",
       "7  Credit monitoring or identity protection   \n",
       "8                     Communication tactics   \n",
       "9     Customer service / Customer relations   \n",
       "\n",
       "                                Sub-issue Consumer complaint narrative  \\\n",
       "0                                     NaN                          NaN   \n",
       "1                           Debt was paid                          NaN   \n",
       "2                                     NaN                          NaN   \n",
       "3  Problem getting report or credit score                          NaN   \n",
       "4                                     NaN                          NaN   \n",
       "5                          Account status                          NaN   \n",
       "6       Debt resulted from identity theft                          NaN   \n",
       "7               Problem with fraud alerts                          NaN   \n",
       "8              Frequent or repeated calls                          NaN   \n",
       "9                                     NaN                          NaN   \n",
       "\n",
       "                             Company public response  \\\n",
       "0                                                NaN   \n",
       "1                                                NaN   \n",
       "2                                                NaN   \n",
       "3   Company chooses not to provide a public response   \n",
       "4                                                NaN   \n",
       "5                                                NaN   \n",
       "6                                                NaN   \n",
       "7  Company has responded to the consumer and the ...   \n",
       "8                                                NaN   \n",
       "9                                                NaN   \n",
       "\n",
       "                                  Company State ZIP code            Tags  \\\n",
       "0                         Bank of America    CA    95691             NaN   \n",
       "1          National Credit Adjusters, LLC    FL    32086             NaN   \n",
       "2                   Wells Fargo & Company    CA    94618             NaN   \n",
       "3  TransUnion Intermediate Holdings, Inc.    FL    33584  Older American   \n",
       "4                         Bank of America    FL    33543             NaN   \n",
       "5                                 Equifax    DC    20018             NaN   \n",
       "6                   Real Time Resolutions    TX    75249             NaN   \n",
       "7                                Experian    CA    91791             NaN   \n",
       "8                         MRS BPO, L.L.C.    WA    99403             NaN   \n",
       "9                                Citibank    IL    60640             NaN   \n",
       "\n",
       "  Consumer consent provided? Submitted via Date sent to company  \\\n",
       "0                        NaN           Web           2014-01-17   \n",
       "1       Consent not provided           Web           2016-03-31   \n",
       "2                        NaN           Web           2012-03-09   \n",
       "3                        NaN   Postal mail           2016-01-12   \n",
       "4                        NaN           Web           2013-08-23   \n",
       "5                        NaN           Web           2013-12-12   \n",
       "6                        NaN           Web           2015-03-16   \n",
       "7                        NaN      Referral           2016-04-29   \n",
       "8                        NaN      Referral           2014-12-18   \n",
       "9                        NaN           Web           2013-03-20   \n",
       "\n",
       "      Company response to consumer Timely response?  Complaint ID  \n",
       "0          Closed with explanation              Yes        675956  \n",
       "1          Closed with explanation              Yes       1858795  \n",
       "2            Closed without relief              Yes         32637  \n",
       "3  Closed with non-monetary relief              Yes       1731374  \n",
       "4          Closed with explanation              Yes        501487  \n",
       "5          Closed with explanation              Yes        631565  \n",
       "6          Closed with explanation              Yes       1283963  \n",
       "7  Closed with non-monetary relief              Yes       1902970  \n",
       "8          Closed with explanation              Yes       1160691  \n",
       "9      Closed with monetary relief              Yes        359929  "
      ]
     },
     "execution_count": 4,
     "metadata": {},
     "output_type": "execute_result"
    }
   ],
   "source": [
    "test1.head(10)"
   ]
  },
  {
   "cell_type": "code",
   "execution_count": 5,
   "id": "3c5ad46e",
   "metadata": {},
   "outputs": [
    {
     "name": "stdout",
     "output_type": "stream",
     "text": [
      "<class 'pandas.core.frame.DataFrame'>\n",
      "RangeIndex: 478421 entries, 0 to 478420\n",
      "Data columns (total 18 columns):\n",
      " #   Column                        Non-Null Count   Dtype \n",
      "---  ------                        --------------   ----- \n",
      " 0   Date received                 478421 non-null  object\n",
      " 1   Product                       478421 non-null  object\n",
      " 2   Sub-product                   339948 non-null  object\n",
      " 3   Issue                         478421 non-null  object\n",
      " 4   Sub-issue                     185796 non-null  object\n",
      " 5   Consumer complaint narrative  75094 non-null   object\n",
      " 6   Company public response       90392 non-null   object\n",
      " 7   Company                       478421 non-null  object\n",
      " 8   State                         474582 non-null  object\n",
      " 9   ZIP code                      474573 non-null  object\n",
      " 10  Tags                          67206 non-null   object\n",
      " 11  Consumer consent provided?    135487 non-null  object\n",
      " 12  Submitted via                 478421 non-null  object\n",
      " 13  Date sent to company          478421 non-null  object\n",
      " 14  Company response to consumer  478421 non-null  object\n",
      " 15  Timely response?              478421 non-null  object\n",
      " 16  Consumer disputed?            478421 non-null  object\n",
      " 17  Complaint ID                  478421 non-null  int64 \n",
      "dtypes: int64(1), object(17)\n",
      "memory usage: 65.7+ MB\n"
     ]
    }
   ],
   "source": [
    "train1.info()"
   ]
  },
  {
   "cell_type": "code",
   "execution_count": 6,
   "id": "d25fd2ce",
   "metadata": {},
   "outputs": [
    {
     "name": "stdout",
     "output_type": "stream",
     "text": [
      "<class 'pandas.core.frame.DataFrame'>\n",
      "RangeIndex: 119606 entries, 0 to 119605\n",
      "Data columns (total 17 columns):\n",
      " #   Column                        Non-Null Count   Dtype \n",
      "---  ------                        --------------   ----- \n",
      " 0   Date received                 119606 non-null  object\n",
      " 1   Product                       119606 non-null  object\n",
      " 2   Sub-product                   84854 non-null   object\n",
      " 3   Issue                         119606 non-null  object\n",
      " 4   Sub-issue                     46546 non-null   object\n",
      " 5   Consumer complaint narrative  18557 non-null   object\n",
      " 6   Company public response       22776 non-null   object\n",
      " 7   Company                       119606 non-null  object\n",
      " 8   State                         118681 non-null  object\n",
      " 9   ZIP code                      118680 non-null  object\n",
      " 10  Tags                          16871 non-null   object\n",
      " 11  Consumer consent provided?    33864 non-null   object\n",
      " 12  Submitted via                 119605 non-null  object\n",
      " 13  Date sent to company          119606 non-null  object\n",
      " 14  Company response to consumer  119606 non-null  object\n",
      " 15  Timely response?              119606 non-null  object\n",
      " 16  Complaint ID                  119606 non-null  int64 \n",
      "dtypes: int64(1), object(16)\n",
      "memory usage: 15.5+ MB\n"
     ]
    }
   ],
   "source": [
    "test1.info()"
   ]
  },
  {
   "cell_type": "code",
   "execution_count": 7,
   "id": "8bfaae43",
   "metadata": {},
   "outputs": [
    {
     "data": {
      "text/plain": [
       "Date received                        0\n",
       "Product                              0\n",
       "Sub-product                     138473\n",
       "Issue                                0\n",
       "Sub-issue                       292625\n",
       "Consumer complaint narrative    403327\n",
       "Company public response         388029\n",
       "Company                              0\n",
       "State                             3839\n",
       "ZIP code                          3848\n",
       "Tags                            411215\n",
       "Consumer consent provided?      342934\n",
       "Submitted via                        0\n",
       "Date sent to company                 0\n",
       "Company response to consumer         0\n",
       "Timely response?                     0\n",
       "Consumer disputed?                   0\n",
       "Complaint ID                         0\n",
       "dtype: int64"
      ]
     },
     "execution_count": 7,
     "metadata": {},
     "output_type": "execute_result"
    }
   ],
   "source": [
    "train1.isnull().sum()"
   ]
  },
  {
   "cell_type": "code",
   "execution_count": 8,
   "id": "696d9e35",
   "metadata": {},
   "outputs": [
    {
     "data": {
      "text/plain": [
       "478421"
      ]
     },
     "execution_count": 8,
     "metadata": {},
     "output_type": "execute_result"
    }
   ],
   "source": [
    "train1.shape[0]"
   ]
  },
  {
   "cell_type": "code",
   "execution_count": 9,
   "id": "520ea2dc",
   "metadata": {},
   "outputs": [
    {
     "data": {
      "text/plain": [
       "Date received                   object\n",
       "Product                         object\n",
       "Sub-product                     object\n",
       "Issue                           object\n",
       "Sub-issue                       object\n",
       "Consumer complaint narrative    object\n",
       "Company public response         object\n",
       "Company                         object\n",
       "State                           object\n",
       "ZIP code                        object\n",
       "Tags                            object\n",
       "Consumer consent provided?      object\n",
       "Submitted via                   object\n",
       "Date sent to company            object\n",
       "Company response to consumer    object\n",
       "Timely response?                object\n",
       "Consumer disputed?              object\n",
       "Complaint ID                     int64\n",
       "dtype: object"
      ]
     },
     "execution_count": 9,
     "metadata": {},
     "output_type": "execute_result"
    }
   ],
   "source": [
    "train1.dtypes"
   ]
  },
  {
   "cell_type": "code",
   "execution_count": 10,
   "id": "45a2a117",
   "metadata": {},
   "outputs": [
    {
     "data": {
      "text/plain": [
       "Date received                   object\n",
       "Product                         object\n",
       "Sub-product                     object\n",
       "Issue                           object\n",
       "Sub-issue                       object\n",
       "Consumer complaint narrative    object\n",
       "Company public response         object\n",
       "Company                         object\n",
       "State                           object\n",
       "ZIP code                        object\n",
       "Tags                            object\n",
       "Consumer consent provided?      object\n",
       "Submitted via                   object\n",
       "Date sent to company            object\n",
       "Company response to consumer    object\n",
       "Timely response?                object\n",
       "Complaint ID                     int64\n",
       "dtype: object"
      ]
     },
     "execution_count": 10,
     "metadata": {},
     "output_type": "execute_result"
    }
   ],
   "source": [
    "test1.dtypes"
   ]
  },
  {
   "cell_type": "code",
   "execution_count": 11,
   "id": "227497e9",
   "metadata": {},
   "outputs": [],
   "source": [
    "train_updated =train1[[ col for col in train1.columns if col != 'Consumer disputed?' ] + ['Consumer disputed?']]"
   ]
  },
  {
   "cell_type": "code",
   "execution_count": 12,
   "id": "fde94d3e",
   "metadata": {},
   "outputs": [],
   "source": [
    "test1[\"Consumer disputed?\"]=\"0\"\n"
   ]
  },
  {
   "cell_type": "code",
   "execution_count": 13,
   "id": "3b1f0405",
   "metadata": {},
   "outputs": [
    {
     "name": "stderr",
     "output_type": "stream",
     "text": [
      "<ipython-input-13-3251641b1c8d>:1: SettingWithCopyWarning: \n",
      "A value is trying to be set on a copy of a slice from a DataFrame.\n",
      "Try using .loc[row_indexer,col_indexer] = value instead\n",
      "\n",
      "See the caveats in the documentation: https://pandas.pydata.org/pandas-docs/stable/user_guide/indexing.html#returning-a-view-versus-a-copy\n",
      "  train_updated[\"Temp\"]= \"train\"\n"
     ]
    }
   ],
   "source": [
    "train_updated[\"Temp\"]= \"train\"\n",
    "test1[\"Temp\"]=\"test\""
   ]
  },
  {
   "cell_type": "code",
   "execution_count": 14,
   "id": "cd89cd0d",
   "metadata": {},
   "outputs": [],
   "source": [
    "comb=pd.concat([train_updated,test1],axis=0)\n"
   ]
  },
  {
   "cell_type": "code",
   "execution_count": 15,
   "id": "1dedffa2",
   "metadata": {},
   "outputs": [
    {
     "data": {
      "text/plain": [
       "(598027, 19)"
      ]
     },
     "execution_count": 15,
     "metadata": {},
     "output_type": "execute_result"
    }
   ],
   "source": [
    "comb.shape"
   ]
  },
  {
   "cell_type": "code",
   "execution_count": 16,
   "id": "bb783c36",
   "metadata": {},
   "outputs": [
    {
     "data": {
      "text/plain": [
       "Date received                   object\n",
       "Product                         object\n",
       "Sub-product                     object\n",
       "Issue                           object\n",
       "Sub-issue                       object\n",
       "Consumer complaint narrative    object\n",
       "Company public response         object\n",
       "Company                         object\n",
       "State                           object\n",
       "ZIP code                        object\n",
       "Tags                            object\n",
       "Consumer consent provided?      object\n",
       "Submitted via                   object\n",
       "Date sent to company            object\n",
       "Company response to consumer    object\n",
       "Timely response?                object\n",
       "Complaint ID                     int64\n",
       "Consumer disputed?              object\n",
       "Temp                            object\n",
       "dtype: object"
      ]
     },
     "execution_count": 16,
     "metadata": {},
     "output_type": "execute_result"
    }
   ],
   "source": [
    "comb.dtypes"
   ]
  },
  {
   "cell_type": "code",
   "execution_count": 17,
   "id": "671e1a83",
   "metadata": {},
   "outputs": [],
   "source": [
    "import datetime\n"
   ]
  },
  {
   "cell_type": "code",
   "execution_count": 18,
   "id": "852bd589",
   "metadata": {},
   "outputs": [],
   "source": [
    "comb[\"Date received\"]=pd.to_datetime(comb[\"Date received\"],format=\"%Y-%m-%d\")\n"
   ]
  },
  {
   "cell_type": "code",
   "execution_count": 19,
   "id": "2d50d066",
   "metadata": {},
   "outputs": [],
   "source": [
    "comb[\"Date sent to company\"]=pd.to_datetime(comb[\"Date sent to company\"],format=\"%Y-%m-%d\")\n"
   ]
  },
  {
   "cell_type": "code",
   "execution_count": 20,
   "id": "6add4144",
   "metadata": {},
   "outputs": [],
   "source": [
    "comb[\"days_diff\"]=comb[\"Date sent to company\"]-comb[\"Date received\"]\n"
   ]
  },
  {
   "cell_type": "code",
   "execution_count": 21,
   "id": "0a62779d",
   "metadata": {},
   "outputs": [],
   "source": [
    "comb[\"days_taken\"]=comb[\"days_diff\"].dt.days"
   ]
  },
  {
   "cell_type": "code",
   "execution_count": 22,
   "id": "ba8b1108",
   "metadata": {},
   "outputs": [
    {
     "data": {
      "text/html": [
       "<div>\n",
       "<style scoped>\n",
       "    .dataframe tbody tr th:only-of-type {\n",
       "        vertical-align: middle;\n",
       "    }\n",
       "\n",
       "    .dataframe tbody tr th {\n",
       "        vertical-align: top;\n",
       "    }\n",
       "\n",
       "    .dataframe thead th {\n",
       "        text-align: right;\n",
       "    }\n",
       "</style>\n",
       "<table border=\"1\" class=\"dataframe\">\n",
       "  <thead>\n",
       "    <tr style=\"text-align: right;\">\n",
       "      <th></th>\n",
       "      <th>Date received</th>\n",
       "      <th>Product</th>\n",
       "      <th>Sub-product</th>\n",
       "      <th>Issue</th>\n",
       "      <th>Sub-issue</th>\n",
       "      <th>Consumer complaint narrative</th>\n",
       "      <th>Company public response</th>\n",
       "      <th>Company</th>\n",
       "      <th>State</th>\n",
       "      <th>ZIP code</th>\n",
       "      <th>...</th>\n",
       "      <th>Consumer consent provided?</th>\n",
       "      <th>Submitted via</th>\n",
       "      <th>Date sent to company</th>\n",
       "      <th>Company response to consumer</th>\n",
       "      <th>Timely response?</th>\n",
       "      <th>Complaint ID</th>\n",
       "      <th>Consumer disputed?</th>\n",
       "      <th>Temp</th>\n",
       "      <th>days_diff</th>\n",
       "      <th>days_taken</th>\n",
       "    </tr>\n",
       "  </thead>\n",
       "  <tbody>\n",
       "    <tr>\n",
       "      <th>0</th>\n",
       "      <td>2014-05-15</td>\n",
       "      <td>Credit card</td>\n",
       "      <td>NaN</td>\n",
       "      <td>Billing statement</td>\n",
       "      <td>NaN</td>\n",
       "      <td>NaN</td>\n",
       "      <td>NaN</td>\n",
       "      <td>Wells Fargo &amp; Company</td>\n",
       "      <td>MI</td>\n",
       "      <td>48342</td>\n",
       "      <td>...</td>\n",
       "      <td>NaN</td>\n",
       "      <td>Web</td>\n",
       "      <td>2014-05-16</td>\n",
       "      <td>Closed with explanation</td>\n",
       "      <td>Yes</td>\n",
       "      <td>856103</td>\n",
       "      <td>No</td>\n",
       "      <td>train</td>\n",
       "      <td>1 days</td>\n",
       "      <td>1</td>\n",
       "    </tr>\n",
       "    <tr>\n",
       "      <th>1</th>\n",
       "      <td>2014-09-18</td>\n",
       "      <td>Bank account or service</td>\n",
       "      <td>(CD) Certificate of deposit</td>\n",
       "      <td>Making/receiving payments, sending money</td>\n",
       "      <td>NaN</td>\n",
       "      <td>NaN</td>\n",
       "      <td>NaN</td>\n",
       "      <td>Santander Bank US</td>\n",
       "      <td>PA</td>\n",
       "      <td>18042</td>\n",
       "      <td>...</td>\n",
       "      <td>NaN</td>\n",
       "      <td>Referral</td>\n",
       "      <td>2014-09-24</td>\n",
       "      <td>Closed</td>\n",
       "      <td>Yes</td>\n",
       "      <td>1034666</td>\n",
       "      <td>No</td>\n",
       "      <td>train</td>\n",
       "      <td>6 days</td>\n",
       "      <td>6</td>\n",
       "    </tr>\n",
       "    <tr>\n",
       "      <th>2</th>\n",
       "      <td>2014-03-13</td>\n",
       "      <td>Credit reporting</td>\n",
       "      <td>NaN</td>\n",
       "      <td>Incorrect information on credit report</td>\n",
       "      <td>Account status</td>\n",
       "      <td>NaN</td>\n",
       "      <td>NaN</td>\n",
       "      <td>Equifax</td>\n",
       "      <td>CA</td>\n",
       "      <td>92427</td>\n",
       "      <td>...</td>\n",
       "      <td>NaN</td>\n",
       "      <td>Referral</td>\n",
       "      <td>2014-04-03</td>\n",
       "      <td>Closed with non-monetary relief</td>\n",
       "      <td>Yes</td>\n",
       "      <td>756363</td>\n",
       "      <td>No</td>\n",
       "      <td>train</td>\n",
       "      <td>21 days</td>\n",
       "      <td>21</td>\n",
       "    </tr>\n",
       "    <tr>\n",
       "      <th>3</th>\n",
       "      <td>2015-07-17</td>\n",
       "      <td>Credit card</td>\n",
       "      <td>NaN</td>\n",
       "      <td>Billing statement</td>\n",
       "      <td>NaN</td>\n",
       "      <td>My credit card statement from US Bank, XXXX. X...</td>\n",
       "      <td>Company chooses not to provide a public response</td>\n",
       "      <td>U.S. Bancorp</td>\n",
       "      <td>GA</td>\n",
       "      <td>305XX</td>\n",
       "      <td>...</td>\n",
       "      <td>Consent provided</td>\n",
       "      <td>Web</td>\n",
       "      <td>2015-07-17</td>\n",
       "      <td>Closed with monetary relief</td>\n",
       "      <td>Yes</td>\n",
       "      <td>1474177</td>\n",
       "      <td>No</td>\n",
       "      <td>train</td>\n",
       "      <td>0 days</td>\n",
       "      <td>0</td>\n",
       "    </tr>\n",
       "    <tr>\n",
       "      <th>4</th>\n",
       "      <td>2014-11-20</td>\n",
       "      <td>Credit card</td>\n",
       "      <td>NaN</td>\n",
       "      <td>Transaction issue</td>\n",
       "      <td>NaN</td>\n",
       "      <td>NaN</td>\n",
       "      <td>NaN</td>\n",
       "      <td>Bank of America</td>\n",
       "      <td>MA</td>\n",
       "      <td>02127</td>\n",
       "      <td>...</td>\n",
       "      <td>NaN</td>\n",
       "      <td>Web</td>\n",
       "      <td>2014-11-28</td>\n",
       "      <td>Closed with explanation</td>\n",
       "      <td>Yes</td>\n",
       "      <td>1132572</td>\n",
       "      <td>No</td>\n",
       "      <td>train</td>\n",
       "      <td>8 days</td>\n",
       "      <td>8</td>\n",
       "    </tr>\n",
       "    <tr>\n",
       "      <th>...</th>\n",
       "      <td>...</td>\n",
       "      <td>...</td>\n",
       "      <td>...</td>\n",
       "      <td>...</td>\n",
       "      <td>...</td>\n",
       "      <td>...</td>\n",
       "      <td>...</td>\n",
       "      <td>...</td>\n",
       "      <td>...</td>\n",
       "      <td>...</td>\n",
       "      <td>...</td>\n",
       "      <td>...</td>\n",
       "      <td>...</td>\n",
       "      <td>...</td>\n",
       "      <td>...</td>\n",
       "      <td>...</td>\n",
       "      <td>...</td>\n",
       "      <td>...</td>\n",
       "      <td>...</td>\n",
       "      <td>...</td>\n",
       "      <td>...</td>\n",
       "    </tr>\n",
       "    <tr>\n",
       "      <th>119601</th>\n",
       "      <td>2012-09-15</td>\n",
       "      <td>Credit card</td>\n",
       "      <td>NaN</td>\n",
       "      <td>Closing/Cancelling account</td>\n",
       "      <td>NaN</td>\n",
       "      <td>NaN</td>\n",
       "      <td>NaN</td>\n",
       "      <td>JPMorgan Chase &amp; Co.</td>\n",
       "      <td>IL</td>\n",
       "      <td>60538</td>\n",
       "      <td>...</td>\n",
       "      <td>NaN</td>\n",
       "      <td>Web</td>\n",
       "      <td>2012-09-21</td>\n",
       "      <td>Closed with monetary relief</td>\n",
       "      <td>Yes</td>\n",
       "      <td>153482</td>\n",
       "      <td>0</td>\n",
       "      <td>test</td>\n",
       "      <td>6 days</td>\n",
       "      <td>6</td>\n",
       "    </tr>\n",
       "    <tr>\n",
       "      <th>119602</th>\n",
       "      <td>2016-07-21</td>\n",
       "      <td>Credit reporting</td>\n",
       "      <td>NaN</td>\n",
       "      <td>Credit reporting company's investigation</td>\n",
       "      <td>No notice of investigation status/result</td>\n",
       "      <td>On XXXX/XXXX/16 a dispute and validation of a ...</td>\n",
       "      <td>Company has responded to the consumer and the ...</td>\n",
       "      <td>Experian</td>\n",
       "      <td>CA</td>\n",
       "      <td>956XX</td>\n",
       "      <td>...</td>\n",
       "      <td>Consent provided</td>\n",
       "      <td>Web</td>\n",
       "      <td>2016-07-21</td>\n",
       "      <td>Closed with explanation</td>\n",
       "      <td>Yes</td>\n",
       "      <td>2023523</td>\n",
       "      <td>0</td>\n",
       "      <td>test</td>\n",
       "      <td>0 days</td>\n",
       "      <td>0</td>\n",
       "    </tr>\n",
       "    <tr>\n",
       "      <th>119603</th>\n",
       "      <td>2015-06-09</td>\n",
       "      <td>Debt collection</td>\n",
       "      <td>Other (i.e. phone, health club, etc.)</td>\n",
       "      <td>Disclosure verification of debt</td>\n",
       "      <td>Not given enough info to verify debt</td>\n",
       "      <td>NaN</td>\n",
       "      <td>Company chooses not to provide a public response</td>\n",
       "      <td>FAIR COLLECTIONS &amp; OUTSOURCING, INC.</td>\n",
       "      <td>CA</td>\n",
       "      <td>90803</td>\n",
       "      <td>...</td>\n",
       "      <td>NaN</td>\n",
       "      <td>Phone</td>\n",
       "      <td>2015-06-12</td>\n",
       "      <td>Closed with explanation</td>\n",
       "      <td>Yes</td>\n",
       "      <td>1413678</td>\n",
       "      <td>0</td>\n",
       "      <td>test</td>\n",
       "      <td>3 days</td>\n",
       "      <td>3</td>\n",
       "    </tr>\n",
       "    <tr>\n",
       "      <th>119604</th>\n",
       "      <td>2014-02-26</td>\n",
       "      <td>Debt collection</td>\n",
       "      <td>Credit card</td>\n",
       "      <td>Disclosure verification of debt</td>\n",
       "      <td>Not given enough info to verify debt</td>\n",
       "      <td>NaN</td>\n",
       "      <td>NaN</td>\n",
       "      <td>Encore Capital Group</td>\n",
       "      <td>PA</td>\n",
       "      <td>17764</td>\n",
       "      <td>...</td>\n",
       "      <td>NaN</td>\n",
       "      <td>Phone</td>\n",
       "      <td>2014-02-27</td>\n",
       "      <td>Closed with explanation</td>\n",
       "      <td>Yes</td>\n",
       "      <td>732458</td>\n",
       "      <td>0</td>\n",
       "      <td>test</td>\n",
       "      <td>1 days</td>\n",
       "      <td>1</td>\n",
       "    </tr>\n",
       "    <tr>\n",
       "      <th>119605</th>\n",
       "      <td>2015-02-11</td>\n",
       "      <td>Debt collection</td>\n",
       "      <td>Other (i.e. phone, health club, etc.)</td>\n",
       "      <td>Cont'd attempts collect debt not owed</td>\n",
       "      <td>Debt is not mine</td>\n",
       "      <td>NaN</td>\n",
       "      <td>NaN</td>\n",
       "      <td>AllianceOne Recievables Management</td>\n",
       "      <td>CA</td>\n",
       "      <td>92103</td>\n",
       "      <td>...</td>\n",
       "      <td>NaN</td>\n",
       "      <td>Web</td>\n",
       "      <td>2015-02-11</td>\n",
       "      <td>Closed with explanation</td>\n",
       "      <td>Yes</td>\n",
       "      <td>1235226</td>\n",
       "      <td>0</td>\n",
       "      <td>test</td>\n",
       "      <td>0 days</td>\n",
       "      <td>0</td>\n",
       "    </tr>\n",
       "  </tbody>\n",
       "</table>\n",
       "<p>598027 rows × 21 columns</p>\n",
       "</div>"
      ],
      "text/plain": [
       "       Date received                  Product  \\\n",
       "0         2014-05-15              Credit card   \n",
       "1         2014-09-18  Bank account or service   \n",
       "2         2014-03-13         Credit reporting   \n",
       "3         2015-07-17              Credit card   \n",
       "4         2014-11-20              Credit card   \n",
       "...              ...                      ...   \n",
       "119601    2012-09-15              Credit card   \n",
       "119602    2016-07-21         Credit reporting   \n",
       "119603    2015-06-09          Debt collection   \n",
       "119604    2014-02-26          Debt collection   \n",
       "119605    2015-02-11          Debt collection   \n",
       "\n",
       "                                  Sub-product  \\\n",
       "0                                         NaN   \n",
       "1                 (CD) Certificate of deposit   \n",
       "2                                         NaN   \n",
       "3                                         NaN   \n",
       "4                                         NaN   \n",
       "...                                       ...   \n",
       "119601                                    NaN   \n",
       "119602                                    NaN   \n",
       "119603  Other (i.e. phone, health club, etc.)   \n",
       "119604                            Credit card   \n",
       "119605  Other (i.e. phone, health club, etc.)   \n",
       "\n",
       "                                           Issue  \\\n",
       "0                              Billing statement   \n",
       "1       Making/receiving payments, sending money   \n",
       "2         Incorrect information on credit report   \n",
       "3                              Billing statement   \n",
       "4                              Transaction issue   \n",
       "...                                          ...   \n",
       "119601                Closing/Cancelling account   \n",
       "119602  Credit reporting company's investigation   \n",
       "119603           Disclosure verification of debt   \n",
       "119604           Disclosure verification of debt   \n",
       "119605     Cont'd attempts collect debt not owed   \n",
       "\n",
       "                                       Sub-issue  \\\n",
       "0                                            NaN   \n",
       "1                                            NaN   \n",
       "2                                 Account status   \n",
       "3                                            NaN   \n",
       "4                                            NaN   \n",
       "...                                          ...   \n",
       "119601                                       NaN   \n",
       "119602  No notice of investigation status/result   \n",
       "119603      Not given enough info to verify debt   \n",
       "119604      Not given enough info to verify debt   \n",
       "119605                          Debt is not mine   \n",
       "\n",
       "                             Consumer complaint narrative  \\\n",
       "0                                                     NaN   \n",
       "1                                                     NaN   \n",
       "2                                                     NaN   \n",
       "3       My credit card statement from US Bank, XXXX. X...   \n",
       "4                                                     NaN   \n",
       "...                                                   ...   \n",
       "119601                                                NaN   \n",
       "119602  On XXXX/XXXX/16 a dispute and validation of a ...   \n",
       "119603                                                NaN   \n",
       "119604                                                NaN   \n",
       "119605                                                NaN   \n",
       "\n",
       "                                  Company public response  \\\n",
       "0                                                     NaN   \n",
       "1                                                     NaN   \n",
       "2                                                     NaN   \n",
       "3        Company chooses not to provide a public response   \n",
       "4                                                     NaN   \n",
       "...                                                   ...   \n",
       "119601                                                NaN   \n",
       "119602  Company has responded to the consumer and the ...   \n",
       "119603   Company chooses not to provide a public response   \n",
       "119604                                                NaN   \n",
       "119605                                                NaN   \n",
       "\n",
       "                                     Company State ZIP code  ...  \\\n",
       "0                      Wells Fargo & Company    MI    48342  ...   \n",
       "1                          Santander Bank US    PA    18042  ...   \n",
       "2                                    Equifax    CA    92427  ...   \n",
       "3                               U.S. Bancorp    GA    305XX  ...   \n",
       "4                            Bank of America    MA    02127  ...   \n",
       "...                                      ...   ...      ...  ...   \n",
       "119601                  JPMorgan Chase & Co.    IL    60538  ...   \n",
       "119602                              Experian    CA    956XX  ...   \n",
       "119603  FAIR COLLECTIONS & OUTSOURCING, INC.    CA    90803  ...   \n",
       "119604                  Encore Capital Group    PA    17764  ...   \n",
       "119605    AllianceOne Recievables Management    CA    92103  ...   \n",
       "\n",
       "       Consumer consent provided? Submitted via Date sent to company  \\\n",
       "0                             NaN           Web           2014-05-16   \n",
       "1                             NaN      Referral           2014-09-24   \n",
       "2                             NaN      Referral           2014-04-03   \n",
       "3                Consent provided           Web           2015-07-17   \n",
       "4                             NaN           Web           2014-11-28   \n",
       "...                           ...           ...                  ...   \n",
       "119601                        NaN           Web           2012-09-21   \n",
       "119602           Consent provided           Web           2016-07-21   \n",
       "119603                        NaN         Phone           2015-06-12   \n",
       "119604                        NaN         Phone           2014-02-27   \n",
       "119605                        NaN           Web           2015-02-11   \n",
       "\n",
       "           Company response to consumer Timely response? Complaint ID  \\\n",
       "0               Closed with explanation              Yes       856103   \n",
       "1                                Closed              Yes      1034666   \n",
       "2       Closed with non-monetary relief              Yes       756363   \n",
       "3           Closed with monetary relief              Yes      1474177   \n",
       "4               Closed with explanation              Yes      1132572   \n",
       "...                                 ...              ...          ...   \n",
       "119601      Closed with monetary relief              Yes       153482   \n",
       "119602          Closed with explanation              Yes      2023523   \n",
       "119603          Closed with explanation              Yes      1413678   \n",
       "119604          Closed with explanation              Yes       732458   \n",
       "119605          Closed with explanation              Yes      1235226   \n",
       "\n",
       "        Consumer disputed?   Temp days_diff days_taken  \n",
       "0                       No  train    1 days          1  \n",
       "1                       No  train    6 days          6  \n",
       "2                       No  train   21 days         21  \n",
       "3                       No  train    0 days          0  \n",
       "4                       No  train    8 days          8  \n",
       "...                    ...    ...       ...        ...  \n",
       "119601                   0   test    6 days          6  \n",
       "119602                   0   test    0 days          0  \n",
       "119603                   0   test    3 days          3  \n",
       "119604                   0   test    1 days          1  \n",
       "119605                   0   test    0 days          0  \n",
       "\n",
       "[598027 rows x 21 columns]"
      ]
     },
     "execution_count": 22,
     "metadata": {},
     "output_type": "execute_result"
    }
   ],
   "source": [
    "comb"
   ]
  },
  {
   "cell_type": "code",
   "execution_count": 23,
   "id": "271e5126",
   "metadata": {},
   "outputs": [],
   "source": [
    "comb.drop([\"Date received\",\"Date sent to company\",\"days_diff\"],axis=1,inplace=True)\n"
   ]
  },
  {
   "cell_type": "code",
   "execution_count": 24,
   "id": "214d6a1b",
   "metadata": {},
   "outputs": [
    {
     "name": "stdout",
     "output_type": "stream",
     "text": [
      "Product : 12\n",
      "Sub-product : 47\n",
      "Issue : 95\n",
      "Sub-issue : 68\n",
      "Consumer complaint narrative : 92118\n",
      "Company public response : 10\n",
      "Company : 3437\n",
      "State : 62\n",
      "ZIP code : 27342\n",
      "Tags : 3\n",
      "Consumer consent provided? : 4\n",
      "Submitted via : 6\n",
      "Company response to consumer : 7\n",
      "Timely response? : 2\n",
      "Consumer disputed? : 3\n",
      "Temp : 2\n"
     ]
    }
   ],
   "source": [
    "for i in comb.select_dtypes([\"object\"]).columns:\n",
    "    print(i,\":\",comb[i].nunique())"
   ]
  },
  {
   "cell_type": "code",
   "execution_count": 25,
   "id": "225308ee",
   "metadata": {},
   "outputs": [
    {
     "data": {
      "text/plain": [
       "Product                              0\n",
       "Sub-product                     173225\n",
       "Issue                                0\n",
       "Sub-issue                       365685\n",
       "Consumer complaint narrative    504376\n",
       "Company public response         484859\n",
       "Company                              0\n",
       "State                             4764\n",
       "ZIP code                          4774\n",
       "Tags                            513950\n",
       "Consumer consent provided?      428676\n",
       "Submitted via                        1\n",
       "Company response to consumer         0\n",
       "Timely response?                     0\n",
       "Complaint ID                         0\n",
       "Consumer disputed?                   0\n",
       "Temp                                 0\n",
       "days_taken                           0\n",
       "dtype: int64"
      ]
     },
     "execution_count": 25,
     "metadata": {},
     "output_type": "execute_result"
    }
   ],
   "source": [
    "comb.isnull().sum(axis=0)"
   ]
  },
  {
   "cell_type": "code",
   "execution_count": 26,
   "id": "eae780ea",
   "metadata": {},
   "outputs": [],
   "source": [
    "for col in ['Sub-product','Sub-issue','Consumer complaint narrative',\n",
    "            'Company public response','Tags','Consumer consent provided?','ZIP code']:\n",
    "    varname=col.replace('-','_').replace('?','').replace(\" \",'_')+'_ismissing'\n",
    "    comb[varname]=np.where(pd.isnull(comb[col]),1,0)\n",
    "    comb.drop([col],1,inplace=True)\n"
   ]
  },
  {
   "cell_type": "code",
   "execution_count": 27,
   "id": "a20693f8",
   "metadata": {},
   "outputs": [
    {
     "data": {
      "text/plain": [
       "Web            392364\n",
       "Referral       114231\n",
       "Phone           42958\n",
       "Postal mail     39348\n",
       "Fax              8788\n",
       "Email             337\n",
       "NaN                 1\n",
       "Name: Submitted via, dtype: int64"
      ]
     },
     "execution_count": 27,
     "metadata": {},
     "output_type": "execute_result"
    }
   ],
   "source": [
    "comb[\"Submitted via\"].value_counts(dropna=False)"
   ]
  },
  {
   "cell_type": "code",
   "execution_count": 28,
   "id": "1297b764",
   "metadata": {},
   "outputs": [],
   "source": [
    "comb[\"Submitted via\"].fillna(\"Web\",inplace=True)\n"
   ]
  },
  {
   "cell_type": "code",
   "execution_count": 29,
   "id": "7ece2284",
   "metadata": {},
   "outputs": [],
   "source": [
    "comb['Timely response?']=np.where(comb['Timely response?']==\"Yes\",1,0)\n"
   ]
  },
  {
   "cell_type": "code",
   "execution_count": 30,
   "id": "fa9936b7",
   "metadata": {},
   "outputs": [
    {
     "data": {
      "text/plain": [
       "CA    87499\n",
       "FL    57765\n",
       "TX    44853\n",
       "NY    41219\n",
       "GA    26668\n",
       "      ...  \n",
       "MH       28\n",
       "MP       20\n",
       "AS       17\n",
       "AA       11\n",
       "PW       11\n",
       "Name: State, Length: 62, dtype: int64"
      ]
     },
     "execution_count": 30,
     "metadata": {},
     "output_type": "execute_result"
    }
   ],
   "source": [
    "comb[\"State\"].value_counts()"
   ]
  },
  {
   "cell_type": "code",
   "execution_count": 31,
   "id": "3d44c37e",
   "metadata": {},
   "outputs": [],
   "source": [
    "k=comb[\"State\"].value_counts()\n",
    "for i in k.axes[0][0:15]:\n",
    "    varname='State_'+i.replace(',','_').replace(' ','_')\n",
    "    comb[varname]=np.where(comb['State']==i,1,0)\n",
    "del comb[\"State\"]\n"
   ]
  },
  {
   "cell_type": "code",
   "execution_count": 32,
   "id": "f50fce0d",
   "metadata": {},
   "outputs": [
    {
     "data": {
      "text/plain": [
       "Bank of America                        57887\n",
       "Wells Fargo & Company                  44337\n",
       "JPMorgan Chase & Co.                   36040\n",
       "Equifax                                36013\n",
       "Experian                               33622\n",
       "                                       ...  \n",
       "Bonded Collections of Rice Lake Inc        1\n",
       "Lightning Fast Finance                     1\n",
       "Roach & Murtha, P.C.                       1\n",
       "FIRST US CAPITAL LLC                       1\n",
       "Newman, Mathis, Brady & Spedale            1\n",
       "Name: Company, Length: 3437, dtype: int64"
      ]
     },
     "execution_count": 32,
     "metadata": {},
     "output_type": "execute_result"
    }
   ],
   "source": [
    "comb['Company'].value_counts()"
   ]
  },
  {
   "cell_type": "code",
   "execution_count": 33,
   "id": "57254666",
   "metadata": {},
   "outputs": [],
   "source": [
    "k1=comb['Company'].value_counts()\n",
    "for val in k1.axes[0][0:12]:\n",
    "    varname='Company_'+val.replace(',','_').replace(' ','_')\n",
    "    comb[varname]=np.where(comb['Company']==val,1,0)\n",
    "del comb[\"Company\"]"
   ]
  },
  {
   "cell_type": "code",
   "execution_count": 34,
   "id": "9791094e",
   "metadata": {},
   "outputs": [],
   "source": [
    "dummy=pd.get_dummies(comb[[\"Product\",\"Company response to consumer\",\"Submitted via\"]],drop_first=True)"
   ]
  },
  {
   "cell_type": "code",
   "execution_count": 35,
   "id": "e4bb5386",
   "metadata": {},
   "outputs": [],
   "source": [
    "comb=pd.concat([comb,dummy],axis=1)"
   ]
  },
  {
   "cell_type": "code",
   "execution_count": 36,
   "id": "98255e17",
   "metadata": {},
   "outputs": [],
   "source": [
    "comb_updated=comb.drop([\"Product\",\"Company response to consumer\",\"Submitted via\"],axis=1)"
   ]
  },
  {
   "cell_type": "code",
   "execution_count": 37,
   "id": "78f497d2",
   "metadata": {},
   "outputs": [],
   "source": [
    "import nltk\n"
   ]
  },
  {
   "cell_type": "code",
   "execution_count": 38,
   "id": "3ecc00ef",
   "metadata": {},
   "outputs": [],
   "source": [
    "import string\n",
    "import re\n",
    "import warnings \n",
    "warnings.filterwarnings(\"ignore\", category=DeprecationWarning)"
   ]
  },
  {
   "cell_type": "code",
   "execution_count": 39,
   "id": "bbae1e31",
   "metadata": {},
   "outputs": [],
   "source": [
    "##### Lower Case ######################################\n",
    "comb_updated[\"Issue\"]=comb_updated[\"Issue\"].apply(lambda x: \" \".join(x.lower() for x in x.split()))"
   ]
  },
  {
   "cell_type": "code",
   "execution_count": 40,
   "id": "d4e00a98",
   "metadata": {},
   "outputs": [
    {
     "name": "stderr",
     "output_type": "stream",
     "text": [
      "<ipython-input-40-3f6564feb3a8>:2: FutureWarning: The default value of regex will change from True to False in a future version.\n",
      "  comb_updated[\"Issue\"] = comb_updated[\"Issue\"].str.replace(\"[^a-zA-Z#]\", \" \")\n"
     ]
    }
   ],
   "source": [
    "### remove special characters, numbers, punctuations #####\n",
    "comb_updated[\"Issue\"] = comb_updated[\"Issue\"].str.replace(\"[^a-zA-Z#]\", \" \")"
   ]
  },
  {
   "cell_type": "code",
   "execution_count": 41,
   "id": "b746f33b",
   "metadata": {},
   "outputs": [],
   "source": [
    "#### Removing Short words ######\n",
    "comb_updated[\"Issue\"] = comb_updated[\"Issue\"].apply(lambda x: ' '.join([w for w in x.split() if len(w)>3]))"
   ]
  },
  {
   "cell_type": "code",
   "execution_count": 42,
   "id": "b69b3727",
   "metadata": {},
   "outputs": [],
   "source": [
    "k2=comb_updated['Issue'].value_counts()\n",
    "for val in k2.axes[0][0:15]:\n",
    "    varname='Issue_'+val.replace(',','_').replace(' ','_')\n",
    "    comb_updated[varname]=np.where(comb_updated[\"Issue\"]==val,1,0)\n",
    "del comb_updated[\"Issue\"]"
   ]
  },
  {
   "cell_type": "code",
   "execution_count": 43,
   "id": "75d5f97a",
   "metadata": {},
   "outputs": [],
   "source": [
    "comb_updated.drop([\"Complaint ID\"],axis=1,inplace=True)"
   ]
  },
  {
   "cell_type": "code",
   "execution_count": 44,
   "id": "71ddce9a",
   "metadata": {},
   "outputs": [],
   "source": [
    "training=comb_updated.loc[comb_updated[\"Temp\"]==\"train\"]\n",
    "testing=comb_updated.loc[comb_updated[\"Temp\"]==\"test\"]"
   ]
  },
  {
   "cell_type": "code",
   "execution_count": 45,
   "id": "ca2efb42",
   "metadata": {},
   "outputs": [
    {
     "name": "stderr",
     "output_type": "stream",
     "text": [
      "C:\\Users\\gupta\\anaconda3\\lib\\site-packages\\pandas\\core\\frame.py:4308: SettingWithCopyWarning: \n",
      "A value is trying to be set on a copy of a slice from a DataFrame\n",
      "\n",
      "See the caveats in the documentation: https://pandas.pydata.org/pandas-docs/stable/user_guide/indexing.html#returning-a-view-versus-a-copy\n",
      "  return super().drop(\n"
     ]
    }
   ],
   "source": [
    "training.drop([\"Temp\"],axis=1,inplace=True)\n",
    "testing.drop([\"Temp\",\"Consumer disputed?\"],axis=1,inplace=True)"
   ]
  },
  {
   "cell_type": "code",
   "execution_count": 46,
   "id": "e3e2cbdf",
   "metadata": {},
   "outputs": [
    {
     "name": "stderr",
     "output_type": "stream",
     "text": [
      "<ipython-input-46-1448467cfbf1>:1: SettingWithCopyWarning: \n",
      "A value is trying to be set on a copy of a slice from a DataFrame.\n",
      "Try using .loc[row_indexer,col_indexer] = value instead\n",
      "\n",
      "See the caveats in the documentation: https://pandas.pydata.org/pandas-docs/stable/user_guide/indexing.html#returning-a-view-versus-a-copy\n",
      "  training[\"Consumer disputed?\"]=np.where(training[\"Consumer disputed?\"]==\"Yes\",1,0)\n"
     ]
    }
   ],
   "source": [
    "training[\"Consumer disputed?\"]=np.where(training[\"Consumer disputed?\"]==\"Yes\",1,0)"
   ]
  },
  {
   "cell_type": "code",
   "execution_count": 47,
   "id": "1e65fae1",
   "metadata": {},
   "outputs": [],
   "source": [
    "from sklearn.model_selection import train_test_split\n"
   ]
  },
  {
   "cell_type": "code",
   "execution_count": 48,
   "id": "6d80239b",
   "metadata": {},
   "outputs": [],
   "source": [
    "x_train=training.drop([\"Consumer disputed?\"],axis=1)\n",
    "y_train=training[\"Consumer disputed?\"]"
   ]
  },
  {
   "cell_type": "code",
   "execution_count": 49,
   "id": "ad85bb8d",
   "metadata": {},
   "outputs": [],
   "source": [
    "np.random.seed(324)"
   ]
  },
  {
   "cell_type": "code",
   "execution_count": 50,
   "id": "52a1dcbd",
   "metadata": {},
   "outputs": [],
   "source": [
    "X_train,X_test,Y_train,Y_test=train_test_split(x_train,y_train,test_size=0.30,stratify=y_train)"
   ]
  },
  {
   "cell_type": "code",
   "execution_count": 51,
   "id": "2b1ff08a",
   "metadata": {},
   "outputs": [
    {
     "name": "stdout",
     "output_type": "stream",
     "text": [
      "Requirement already satisfied: xgboost in c:\\users\\gupta\\anaconda3\\lib\\site-packages (1.7.3)\n",
      "Requirement already satisfied: numpy in c:\\users\\gupta\\anaconda3\\lib\\site-packages (from xgboost) (1.20.1)\n",
      "Requirement already satisfied: scipy in c:\\users\\gupta\\anaconda3\\lib\\site-packages (from xgboost) (1.6.2)\n",
      "Note: you may need to restart the kernel to use updated packages.\n"
     ]
    }
   ],
   "source": [
    "pip install xgboost"
   ]
  },
  {
   "cell_type": "code",
   "execution_count": 52,
   "id": "afcd5e35",
   "metadata": {},
   "outputs": [],
   "source": [
    "import xgboost as xgb"
   ]
  },
  {
   "cell_type": "code",
   "execution_count": 53,
   "id": "bbf673aa",
   "metadata": {},
   "outputs": [],
   "source": [
    "from xgboost.sklearn import XGBClassifier"
   ]
  },
  {
   "cell_type": "code",
   "execution_count": 54,
   "id": "f9143c82",
   "metadata": {},
   "outputs": [],
   "source": [
    "clf=XGBClassifier(objective='binary:logistic',scale_pos_weight=3,n_estimators=200)"
   ]
  },
  {
   "cell_type": "code",
   "execution_count": 55,
   "id": "1ce4ccb1",
   "metadata": {},
   "outputs": [
    {
     "data": {
      "text/plain": [
       "XGBClassifier(base_score=None, booster=None, callbacks=None,\n",
       "              colsample_bylevel=None, colsample_bynode=None,\n",
       "              colsample_bytree=None, early_stopping_rounds=None,\n",
       "              enable_categorical=False, eval_metric=None, feature_types=None,\n",
       "              gamma=None, gpu_id=None, grow_policy=None, importance_type=None,\n",
       "              interaction_constraints=None, learning_rate=None, max_bin=None,\n",
       "              max_cat_threshold=None, max_cat_to_onehot=None,\n",
       "              max_delta_step=None, max_depth=None, max_leaves=None,\n",
       "              min_child_weight=None, missing=nan, monotone_constraints=None,\n",
       "              n_estimators=200, n_jobs=None, num_parallel_tree=None,\n",
       "              predictor=None, random_state=None, ...)"
      ]
     },
     "execution_count": 55,
     "metadata": {},
     "output_type": "execute_result"
    }
   ],
   "source": [
    "clf.fit(X_train,Y_train)"
   ]
  },
  {
   "cell_type": "code",
   "execution_count": 56,
   "id": "e3c7956d",
   "metadata": {},
   "outputs": [],
   "source": [
    "p=clf.predict_proba(X_test)[:,1]"
   ]
  },
  {
   "cell_type": "code",
   "execution_count": 57,
   "id": "db4339f1",
   "metadata": {},
   "outputs": [],
   "source": [
    "from sklearn.metrics import roc_auc_score"
   ]
  },
  {
   "cell_type": "code",
   "execution_count": 58,
   "id": "c737e566",
   "metadata": {},
   "outputs": [
    {
     "data": {
      "text/plain": [
       "0.6254008198944592"
      ]
     },
     "execution_count": 58,
     "metadata": {},
     "output_type": "execute_result"
    }
   ],
   "source": [
    "roc_auc_score(Y_test,p)"
   ]
  },
  {
   "cell_type": "code",
   "execution_count": 59,
   "id": "adbcf84f",
   "metadata": {},
   "outputs": [],
   "source": [
    "from sklearn.ensemble import RandomForestClassifier"
   ]
  },
  {
   "cell_type": "code",
   "execution_count": 60,
   "id": "22ef7898",
   "metadata": {},
   "outputs": [],
   "source": [
    "algo= RandomForestClassifier()"
   ]
  },
  {
   "cell_type": "code",
   "execution_count": 61,
   "id": "259ee912",
   "metadata": {},
   "outputs": [
    {
     "data": {
      "text/plain": [
       "RandomForestClassifier()"
      ]
     },
     "execution_count": 61,
     "metadata": {},
     "output_type": "execute_result"
    }
   ],
   "source": [
    "algo.fit(X_train,Y_train)"
   ]
  },
  {
   "cell_type": "code",
   "execution_count": 62,
   "id": "283c9eb9",
   "metadata": {},
   "outputs": [],
   "source": [
    "predicted=algo.predict_proba(X_test)[:,1]"
   ]
  },
  {
   "cell_type": "code",
   "execution_count": 63,
   "id": "4c2a2fb2",
   "metadata": {},
   "outputs": [
    {
     "data": {
      "text/plain": [
       "0.5765255324227101"
      ]
     },
     "execution_count": 63,
     "metadata": {},
     "output_type": "execute_result"
    }
   ],
   "source": [
    "roc_auc_score(Y_test,predicted)"
   ]
  },
  {
   "cell_type": "code",
   "execution_count": null,
   "id": "66ef29c1",
   "metadata": {},
   "outputs": [],
   "source": []
  },
  {
   "cell_type": "code",
   "execution_count": null,
   "id": "b910a023",
   "metadata": {},
   "outputs": [],
   "source": []
  },
  {
   "cell_type": "code",
   "execution_count": null,
   "id": "4ab68f49",
   "metadata": {},
   "outputs": [],
   "source": [
    "\n"
   ]
  },
  {
   "cell_type": "code",
   "execution_count": null,
   "id": "0c2d130b",
   "metadata": {},
   "outputs": [],
   "source": []
  },
  {
   "cell_type": "code",
   "execution_count": null,
   "id": "fbc00571",
   "metadata": {},
   "outputs": [],
   "source": []
  },
  {
   "cell_type": "code",
   "execution_count": null,
   "id": "7e5f6400",
   "metadata": {},
   "outputs": [],
   "source": []
  },
  {
   "cell_type": "code",
   "execution_count": null,
   "id": "ead67f11",
   "metadata": {},
   "outputs": [],
   "source": []
  }
 ],
 "metadata": {
  "kernelspec": {
   "display_name": "Python 3",
   "language": "python",
   "name": "python3"
  },
  "language_info": {
   "codemirror_mode": {
    "name": "ipython",
    "version": 3
   },
   "file_extension": ".py",
   "mimetype": "text/x-python",
   "name": "python",
   "nbconvert_exporter": "python",
   "pygments_lexer": "ipython3",
   "version": "3.8.8"
  }
 },
 "nbformat": 4,
 "nbformat_minor": 5
}
